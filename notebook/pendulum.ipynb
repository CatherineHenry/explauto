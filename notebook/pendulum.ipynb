{
 "cells": [
  {
   "cell_type": "markdown",
   "id": "ec25f2d0",
   "metadata": {},
   "source": [
    "# The pendulum environment"
   ]
  },
  {
   "cell_type": "markdown",
   "id": "8d74f454",
   "metadata": {},
   "source": [
    "This environment simulates a torque-controlled pendulum. It is particularly interesting when it is under-actuated, i.e. when the torque limit does not allow to swap the pendulum from the stable equilibrium point (lower position) to its unstable equilibrium point (upper position) by applying the maximum torque.\n",
    "\n",
    "First, we create the environment as usual (see [this tutorial](http://nbviewer.ipython.org/github/flowersteam/explauto/blob/master/notebook/setting_environments.ipynb)):"
   ]
  },
  {
   "cell_type": "code",
   "execution_count": 1,
   "id": "cc924595",
   "metadata": {
    "collapsed": false,
    "jupyter": {
     "outputs_hidden": false
    }
   },
   "outputs": [],
   "source": [
    "from explauto.environment import environments\n",
    "\n",
    "import matplotlib.pyplot as plt\n",
    "import numpy as np\n",
    "\n",
    "env_cls, env_configs, _ = environments['pendulum']\n",
    "env = env_cls(**env_configs['default'])"
   ]
  },
  {
   "cell_type": "markdown",
   "id": "0e795538",
   "metadata": {},
   "source": [
    "The initial state of the pendulum is the lower position with a null velocity, i.e. the stable equilibrium point. The current state can be get or set using:"
   ]
  },
  {
   "cell_type": "code",
   "execution_count": 14,
   "id": "5f1ecf1d",
   "metadata": {
    "collapsed": false,
    "jupyter": {
     "outputs_hidden": false
    }
   },
   "outputs": [
    {
     "data": {
      "text/plain": [
       "[-3.141592653589793, 0.0]"
      ]
     },
     "execution_count": 14,
     "metadata": {},
     "output_type": "execute_result"
    }
   ],
   "source": [
    "env.x"
   ]
  },
  {
   "cell_type": "markdown",
   "id": "35168a61",
   "metadata": {},
   "source": [
    "The first scalar is the current angle position (here: $\\pi$) and the second one is the current angular velocity (here: $0$). To plot the current pendulum position, use:"
   ]
  },
  {
   "cell_type": "code",
   "execution_count": 2,
   "id": "61987675",
   "metadata": {
    "collapsed": false,
    "jupyter": {
     "outputs_hidden": false
    }
   },
   "outputs": [
    {
     "data": {
      "image/png": "[encoded data removed]",
      "text/plain": [
       "<Figure size 640x480 with 1 Axes>"
      ]
     },
     "metadata": {},
     "output_type": "display_data"
    }
   ],
   "source": [
    "ax = plt.axes()\n",
    "env.plot_current_state(ax)"
   ]
  },
  {
   "cell_type": "markdown",
   "id": "c7b02a1d",
   "metadata": {},
   "source": [
    "The time step of the simulation can be get or set using:"
   ]
  },
  {
   "cell_type": "code",
   "execution_count": 3,
   "id": "05e0bfe5",
   "metadata": {
    "collapsed": false,
    "jupyter": {
     "outputs_hidden": false
    }
   },
   "outputs": [
    {
     "data": {
      "text/plain": [
       "0.25"
      ]
     },
     "execution_count": 3,
     "metadata": {},
     "output_type": "execute_result"
    }
   ],
   "source": [
    "env.dt"
   ]
  },
  {
   "cell_type": "markdown",
   "id": "ade4f558",
   "metadata": {},
   "source": [
    "To apply a torque $u$ on the pendulum during a duration of env.dt, we can use:"
   ]
  },
  {
   "cell_type": "code",
   "execution_count": 4,
   "id": "e820600d",
   "metadata": {
    "collapsed": false,
    "jupyter": {
     "outputs_hidden": false
    }
   },
   "outputs": [],
   "source": [
    "u = [0.1]\n",
    "env.apply_torque(u)"
   ]
  },
  {
   "cell_type": "markdown",
   "id": "4aa4fa4b",
   "metadata": {},
   "source": [
    "We observe that the current state of the pendulum has changed accordingly:"
   ]
  },
  {
   "cell_type": "code",
   "execution_count": 5,
   "id": "452025a5",
   "metadata": {
    "collapsed": false,
    "jupyter": {
     "outputs_hidden": false
    }
   },
   "outputs": [
    {
     "data": {
      "text/plain": [
       "[array([-3.13846765]), array([0.025])]"
      ]
     },
     "execution_count": 5,
     "metadata": {},
     "output_type": "execute_result"
    }
   ],
   "source": [
    "env.x"
   ]
  },
  {
   "cell_type": "markdown",
   "id": "3ab100ae",
   "metadata": {},
   "source": [
    "Now let's apply a torque trajectory, for example a torque of 0.25 during 100 time steps, and plot the pendulum position at each time step:"
   ]
  },
  {
   "cell_type": "code",
   "execution_count": 7,
   "id": "e5763258",
   "metadata": {
    "collapsed": false,
    "jupyter": {
     "outputs_hidden": false
    }
   },
   "outputs": [
    {
     "data": {
      "text/plain": [
       "<Figure size 640x480 with 0 Axes>"
      ]
     },
     "metadata": {},
     "output_type": "display_data"
    }
   ],
   "source": [
    "U = [0.25] * 100\n",
    "env.reset() # reset to lower position\n",
    "for u in U:\n",
    "    ax.cla()\n",
    "    env.apply_torque(u)\n",
    "    env.plot_current_state(ax)\n",
    "    plt.draw()"
   ]
  },
  {
   "cell_type": "markdown",
   "id": "239977c0",
   "metadata": {},
   "source": [
    "Due to the under-actuated nature of the pendulum (with torque max at 0.25), we observe that the above torque trajectory does not allow to swap the pendulum to the upper position. To achieve this, one should use a bang-bang policy instead:"
   ]
  },
  {
   "cell_type": "code",
   "execution_count": 11,
   "id": "35aa8507",
   "metadata": {
    "collapsed": false,
    "jupyter": {
     "outputs_hidden": false
    }
   },
   "outputs": [
    {
     "data": {
      "text/plain": [
       "<Figure size 640x480 with 0 Axes>"
      ]
     },
     "metadata": {},
     "output_type": "display_data"
    }
   ],
   "source": [
    "U = [0.25] * 15 + [-0.25] * 15 + [0.25] * 19\n",
    "env.reset() # reset to lower position\n",
    "for u in U:\n",
    "    ax.cla()\n",
    "    env.apply_torque(u)\n",
    "    env.plot_current_state(ax)\n",
    "    plt.draw()"
   ]
  },
  {
   "cell_type": "code",
   "execution_count": null,
   "id": "4d09a006-adce-469c-b7f1-022f393a9dd0",
   "metadata": {},
   "outputs": [],
   "source": [
    "\n"
   ]
  }
 ],
 "metadata": {
  "kernelspec": {
   "display_name": "Python 3 (ipykernel)",
   "language": "python",
   "name": "python3"
  },
  "language_info": {
   "codemirror_mode": {
    "name": "ipython",
    "version": 3
   },
   "file_extension": ".py",
   "mimetype": "text/x-python",
   "name": "python",
   "nbconvert_exporter": "python",
   "pygments_lexer": "ipython3",
   "version": "3.9.7"
  }
 },
 "nbformat": 4,
 "nbformat_minor": 5
}
