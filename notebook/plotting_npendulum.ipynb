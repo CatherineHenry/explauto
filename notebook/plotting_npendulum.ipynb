{
 "cells": [
  {
   "cell_type": "markdown",
   "id": "4c255dad-bd44-4ac0-b0be-0e7bd99ca47b",
   "metadata": {},
   "source": [
    "Requirements: Need to include sympy as project dependency to import/run/use npendulum"
   ]
  },
  {
   "cell_type": "code",
   "execution_count": 12,
   "id": "c417f285-e220-4cd3-aec1-998369b34320",
   "metadata": {},
   "outputs": [],
   "source": [
    "import matplotlib.pyplot as plt\n",
    "import numpy as np"
   ]
  },
  {
   "cell_type": "markdown",
   "id": "b765d9ec",
   "metadata": {},
   "source": [
    "# Plotting from NPendulum Environment"
   ]
  },
  {
   "cell_type": "markdown",
   "id": "6bfdfa99",
   "metadata": {},
   "source": [
    "In Explauto, an *environment* implements the physical properties of the interaction between the robot body and the environment in which it evolves. Explauto come with several sensorimotor systems available from the [environment package](http://flowersteam.github.io/explauto/explauto.environment.html). To learn how to set an environment, look at the notebook [Setting Environments](https://github.com/flowersteam/explauto/blob/master/notebook/setting_environments.ipynb)."
   ]
  },
  {
   "cell_type": "code",
   "execution_count": 1,
   "id": "e7982102",
   "metadata": {
    "collapsed": false,
    "jupyter": {
     "outputs_hidden": false
    }
   },
   "outputs": [
    {
     "name": "stdout",
     "output_type": "stream",
     "text": [
      "simple_arm\n",
      "pendulum\n",
      "npendulum\n",
      "pypot\n",
      "No module named 'explauto.environment.pypot'\n",
      "Available environments: dict_keys(['simple_arm', 'pendulum', 'npendulum'])\n"
     ]
    }
   ],
   "source": [
    "from explauto.environment import environments\n",
    "print('Available environments: {}'.format(environments.keys()))"
   ]
  },
  {
   "cell_type": "markdown",
   "id": "9c7f4921",
   "metadata": {},
   "source": [
    "We will use the npendulum environment for this tutorial. It consists in the simulation of a multiple pendulum with $n+1$ nodes, aiming to model a string. The first node is the one which undergoes the input force.\n",
    "\n",
    "This environment comes with a predefined configuration, named *default*."
   ]
  },
  {
   "cell_type": "code",
   "execution_count": 2,
   "id": "58f0e6f9",
   "metadata": {
    "collapsed": false,
    "jupyter": {
     "outputs_hidden": false
    }
   },
   "outputs": [
    {
     "name": "stdout",
     "output_type": "stream",
     "text": [
      "Available configurations for the simple arm environment: dict_keys(['default'])\n"
     ]
    }
   ],
   "source": [
    "env_cls, env_configs, _ = environments['npendulum']\n",
    "print('Available configurations for the simple arm environment: {}'.format(env_configs.keys()))"
   ]
  },
  {
   "cell_type": "markdown",
   "id": "585a6dbb",
   "metadata": {},
   "source": [
    "In the case of the npendulum environment, a configuration must defines the following values:\n",
    "* nb_joints (number $n$ of the joints)\n",
    "* m_mins and m_maxs (bounds of the motor space)\n",
    "* s_mins ans s_maxs (bounds of the sensory space)\n",
    "* length_ratio (length ratio from one segment to the following one)\n",
    "* noise (gaussian noise added in the sensor space)\n",
    "\n",
    "For more advanced settings, please look at the [npendulum environment documentation](http://flowersteam.github.io/explauto/explauto.environment.html#explauto.environment.npendulum.npendulum.NPendulumEnvironment).\n",
    "\n",
    "Then we create the Environment instance."
   ]
  },
  {
   "cell_type": "code",
   "execution_count": 5,
   "id": "88cdf9f7",
   "metadata": {
    "collapsed": false,
    "jupyter": {
     "outputs_hidden": false
    }
   },
   "outputs": [
    {
     "name": "stdout",
     "output_type": "stream",
     "text": [
      "Default configuration for the npendulum:\n",
      "\tn: 5\n",
      "\tm_mins: [-0.1 -0.1 -0.1 -0.1 -0.1 -0.1 -0.1 -0.1 -0.1 -0.1]\n",
      "\tm_maxs: [0.1 0.1 0.1 0.1 0.1 0.1 0.1 0.1 0.1 0.1]\n",
      "\ts_mins: [-450.   -1.]\n",
      "\ts_maxs: [450.   1.]\n",
      "\tnoise: 0.02\n"
     ]
    }
   ],
   "source": [
    "config = env_configs['default']\n",
    "\n",
    "print('Default configuration for the npendulum:')\n",
    "for config_key, value in config.items():\n",
    "    print('\\t{}: {}'.format(config_key, value))\n",
    "\n",
    "environment = env_cls(**config)"
   ]
  },
  {
   "cell_type": "markdown",
   "id": "a92d4868",
   "metadata": {},
   "source": [
    "Each environment has an [update](http://flowersteam.github.io/explauto/explauto.environment.html#explauto.environment.environment.Environment.update) method, we take as argument a motor command vector $m$. It computes $m\\_bounds$, the command $m$ bounded according to the configuration used (m_mins, m_maxs values), then computes the corresponding sensory effect vector $s$ and returns the position and velocity of the last effector.\n",
    "\n",
    "$m$ is a list of ten elements that are the amplitude of each step function."
   ]
  },
  {
   "cell_type": "code",
   "execution_count": 7,
   "id": "5029bf30",
   "metadata": {
    "collapsed": false,
    "jupyter": {
     "outputs_hidden": false
    }
   },
   "outputs": [
    {
     "ename": "TypeError",
     "evalue": "cannot unpack non-iterable Particle object",
     "output_type": "error",
     "traceback": [
      "\u001b[0;31m---------------------------------------------------------------------------\u001b[0m",
      "\u001b[0;31mTypeError\u001b[0m                                 Traceback (most recent call last)",
      "Cell \u001b[0;32mIn [7], line 3\u001b[0m\n\u001b[1;32m      1\u001b[0m \u001b[38;5;28;01mfrom\u001b[39;00m \u001b[38;5;21;01mmath\u001b[39;00m \u001b[38;5;28;01mimport\u001b[39;00m pi\n\u001b[1;32m      2\u001b[0m m \u001b[38;5;241m=\u001b[39m [\u001b[38;5;241m0.01\u001b[39m,\u001b[38;5;241m0.06\u001b[39m,\u001b[38;5;241m-\u001b[39m\u001b[38;5;241m0.05\u001b[39m,\u001b[38;5;241m0.01\u001b[39m,\u001b[38;5;241m0.\u001b[39m,\u001b[38;5;241m0.\u001b[39m,\u001b[38;5;241m0.\u001b[39m,\u001b[38;5;241m0.\u001b[39m,\u001b[38;5;241m-\u001b[39m\u001b[38;5;241m0.1\u001b[39m,\u001b[38;5;241m0.01\u001b[39m]\n\u001b[0;32m----> 3\u001b[0m \u001b[38;5;28mprint\u001b[39m(\u001b[43menvironment\u001b[49m\u001b[38;5;241;43m.\u001b[39;49m\u001b[43mupdate\u001b[49m\u001b[43m(\u001b[49m\u001b[43mm\u001b[49m\u001b[43m)\u001b[49m)\n",
      "File \u001b[0;32m~/School/Thesis/explauto_fork/explauto/explauto/environment/environment.py:92\u001b[0m, in \u001b[0;36mEnvironment.update\u001b[0;34m(self, m_ag, reset, log)\u001b[0m\n\u001b[1;32m     90\u001b[0m     \u001b[38;5;28mself\u001b[39m\u001b[38;5;241m.\u001b[39mreset()\n\u001b[1;32m     91\u001b[0m \u001b[38;5;28;01mif\u001b[39;00m \u001b[38;5;28mlen\u001b[39m(array(m_ag)\u001b[38;5;241m.\u001b[39mshape) \u001b[38;5;241m==\u001b[39m \u001b[38;5;241m1\u001b[39m:\n\u001b[0;32m---> 92\u001b[0m     s \u001b[38;5;241m=\u001b[39m \u001b[38;5;28;43mself\u001b[39;49m\u001b[38;5;241;43m.\u001b[39;49m\u001b[43mone_update\u001b[49m\u001b[43m(\u001b[49m\u001b[43mm_ag\u001b[49m\u001b[43m,\u001b[49m\u001b[43m \u001b[49m\u001b[43mlog\u001b[49m\u001b[43m)\u001b[49m\n\u001b[1;32m     93\u001b[0m \u001b[38;5;28;01melse\u001b[39;00m:\n\u001b[1;32m     94\u001b[0m     s \u001b[38;5;241m=\u001b[39m []\n",
      "File \u001b[0;32m~/School/Thesis/explauto_fork/explauto/explauto/environment/environment.py:69\u001b[0m, in \u001b[0;36mEnvironment.one_update\u001b[0;34m(self, m_ag, log)\u001b[0m\n\u001b[1;32m     67\u001b[0m \u001b[38;5;28;01mdef\u001b[39;00m \u001b[38;5;21mone_update\u001b[39m(\u001b[38;5;28mself\u001b[39m, m_ag, log\u001b[38;5;241m=\u001b[39m\u001b[38;5;28;01mTrue\u001b[39;00m):\n\u001b[1;32m     68\u001b[0m     m_env \u001b[38;5;241m=\u001b[39m \u001b[38;5;28mself\u001b[39m\u001b[38;5;241m.\u001b[39mcompute_motor_command(m_ag)\n\u001b[0;32m---> 69\u001b[0m     s \u001b[38;5;241m=\u001b[39m \u001b[38;5;28;43mself\u001b[39;49m\u001b[38;5;241;43m.\u001b[39;49m\u001b[43mcompute_sensori_effect\u001b[49m\u001b[43m(\u001b[49m\u001b[43mm_env\u001b[49m\u001b[43m)\u001b[49m\n\u001b[1;32m     71\u001b[0m     \u001b[38;5;28;01mif\u001b[39;00m log:\n\u001b[1;32m     72\u001b[0m         \u001b[38;5;28mself\u001b[39m\u001b[38;5;241m.\u001b[39memit(\u001b[38;5;124m'\u001b[39m\u001b[38;5;124mmotor\u001b[39m\u001b[38;5;124m'\u001b[39m, m_env)\n",
      "File \u001b[0;32m~/School/Thesis/explauto_fork/explauto/explauto/environment/npendulum/npendulum.py:45\u001b[0m, in \u001b[0;36mNPendulumEnvironment.compute_sensori_effect\u001b[0;34m(self, m)\u001b[0m\n\u001b[1;32m     42\u001b[0m     traj \u001b[38;5;241m=\u001b[39m \u001b[38;5;28mself\u001b[39m\u001b[38;5;241m.\u001b[39mbf\u001b[38;5;241m.\u001b[39mtrajectory(m)\u001b[38;5;241m.\u001b[39mflatten()\n\u001b[1;32m     43\u001b[0m     func \u001b[38;5;241m=\u001b[39m \u001b[38;5;28;01mlambda\u001b[39;00m t: traj[\u001b[38;5;28mint\u001b[39m(\u001b[38;5;241m1000\u001b[39m\u001b[38;5;241m*\u001b[39m\u001b[38;5;28mself\u001b[39m\u001b[38;5;241m.\u001b[39mdt \u001b[38;5;241m*\u001b[39m t)]\n\u001b[0;32m---> 45\u001b[0m states \u001b[38;5;241m=\u001b[39m \u001b[43msimulation\u001b[49m\u001b[38;5;241;43m.\u001b[39;49m\u001b[43msimulate\u001b[49m\u001b[43m(\u001b[49m\u001b[38;5;28;43mself\u001b[39;49m\u001b[38;5;241;43m.\u001b[39;49m\u001b[43mn\u001b[49m\u001b[43m,\u001b[49m\u001b[43m \u001b[49m\u001b[38;5;28;43mself\u001b[39;49m\u001b[38;5;241;43m.\u001b[39;49m\u001b[43mx0\u001b[49m\u001b[43m,\u001b[49m\u001b[43m \u001b[49m\u001b[38;5;28;43mself\u001b[39;49m\u001b[38;5;241;43m.\u001b[39;49m\u001b[43mdt\u001b[49m\u001b[43m,\u001b[49m\u001b[43m \u001b[49m\u001b[43mfunc\u001b[49m\u001b[43m)\u001b[49m\n\u001b[1;32m     46\u001b[0m last_state_cartesian \u001b[38;5;241m=\u001b[39m simulation\u001b[38;5;241m.\u001b[39mcartesian(\u001b[38;5;28mself\u001b[39m\u001b[38;5;241m.\u001b[39mn, states[\u001b[38;5;241m-\u001b[39m\u001b[38;5;241m1\u001b[39m])\n\u001b[1;32m     48\u001b[0m end_effector_pos \u001b[38;5;241m=\u001b[39m array([last_state_cartesian[\u001b[38;5;28mself\u001b[39m\u001b[38;5;241m.\u001b[39mn], last_state_cartesian[\u001b[38;5;241m2\u001b[39m\u001b[38;5;241m*\u001b[39m\u001b[38;5;28mself\u001b[39m\u001b[38;5;241m.\u001b[39mn]])\n",
      "File \u001b[0;32m~/School/Thesis/explauto_fork/explauto/explauto/environment/npendulum/simulation.py:130\u001b[0m, in \u001b[0;36msimulate\u001b[0;34m(n, x0, dt, func)\u001b[0m\n\u001b[1;32m    127\u001b[0m t \u001b[38;5;241m=\u001b[39m linspace(\u001b[38;5;241m0\u001b[39m, \u001b[38;5;241m1000\u001b[39m \u001b[38;5;241m*\u001b[39m dt, \u001b[38;5;241m1000\u001b[39m)\n\u001b[1;32m    129\u001b[0m kane \u001b[38;5;241m=\u001b[39m KanesMethod(I, q_ind\u001b[38;5;241m=\u001b[39mq, u_ind\u001b[38;5;241m=\u001b[39mu, kd_eqs\u001b[38;5;241m=\u001b[39mkindiffs)\n\u001b[0;32m--> 130\u001b[0m fr, frstar \u001b[38;5;241m=\u001b[39m \u001b[43mkane\u001b[49m\u001b[38;5;241;43m.\u001b[39;49m\u001b[43mkanes_equations\u001b[49m\u001b[43m(\u001b[49m\u001b[43mforces\u001b[49m\u001b[43m,\u001b[49m\u001b[43m \u001b[49m\u001b[43mparticles\u001b[49m\u001b[43m)\u001b[49m\n\u001b[1;32m    131\u001b[0m fr\n\u001b[1;32m    132\u001b[0m frstar\n",
      "File \u001b[0;32m~/Library/Caches/pypoetry/virtualenvs/explauto-fork-PZ5_a-k_-py3.9/lib/python3.9/site-packages/sympy/physics/mechanics/kane.py:574\u001b[0m, in \u001b[0;36mKanesMethod.kanes_equations\u001b[0;34m(self, bodies, loads)\u001b[0m\n\u001b[1;32m    571\u001b[0m \u001b[38;5;28;01mif\u001b[39;00m \u001b[38;5;129;01mnot\u001b[39;00m \u001b[38;5;28mself\u001b[39m\u001b[38;5;241m.\u001b[39m_k_kqdot:\n\u001b[1;32m    572\u001b[0m     \u001b[38;5;28;01mraise\u001b[39;00m \u001b[38;5;167;01mAttributeError\u001b[39;00m(\u001b[38;5;124m'\u001b[39m\u001b[38;5;124mCreate an instance of KanesMethod with \u001b[39m\u001b[38;5;124m'\u001b[39m\n\u001b[1;32m    573\u001b[0m             \u001b[38;5;124m'\u001b[39m\u001b[38;5;124mkinematic differential equations to use this method.\u001b[39m\u001b[38;5;124m'\u001b[39m)\n\u001b[0;32m--> 574\u001b[0m fr \u001b[38;5;241m=\u001b[39m \u001b[38;5;28;43mself\u001b[39;49m\u001b[38;5;241;43m.\u001b[39;49m\u001b[43m_form_fr\u001b[49m\u001b[43m(\u001b[49m\u001b[43mloads\u001b[49m\u001b[43m)\u001b[49m\n\u001b[1;32m    575\u001b[0m frstar \u001b[38;5;241m=\u001b[39m \u001b[38;5;28mself\u001b[39m\u001b[38;5;241m.\u001b[39m_form_frstar(bodies)\n\u001b[1;32m    576\u001b[0m \u001b[38;5;28;01mif\u001b[39;00m \u001b[38;5;28mself\u001b[39m\u001b[38;5;241m.\u001b[39m_uaux:\n",
      "File \u001b[0;32m~/Library/Caches/pypoetry/virtualenvs/explauto-fork-PZ5_a-k_-py3.9/lib/python3.9/site-packages/sympy/physics/mechanics/kane.py:314\u001b[0m, in \u001b[0;36mKanesMethod._form_fr\u001b[0;34m(self, fl)\u001b[0m\n\u001b[1;32m    312\u001b[0m N \u001b[38;5;241m=\u001b[39m \u001b[38;5;28mself\u001b[39m\u001b[38;5;241m.\u001b[39m_inertial\n\u001b[1;32m    313\u001b[0m \u001b[38;5;66;03m# pull out relevant velocities for constructing partial velocities\u001b[39;00m\n\u001b[0;32m--> 314\u001b[0m vel_list, f_list \u001b[38;5;241m=\u001b[39m \u001b[43m_f_list_parser\u001b[49m\u001b[43m(\u001b[49m\u001b[43mfl\u001b[49m\u001b[43m,\u001b[49m\u001b[43m \u001b[49m\u001b[43mN\u001b[49m\u001b[43m)\u001b[49m\n\u001b[1;32m    315\u001b[0m vel_list \u001b[38;5;241m=\u001b[39m [msubs(i, \u001b[38;5;28mself\u001b[39m\u001b[38;5;241m.\u001b[39m_qdot_u_map) \u001b[38;5;28;01mfor\u001b[39;00m i \u001b[38;5;129;01min\u001b[39;00m vel_list]\n\u001b[1;32m    316\u001b[0m f_list \u001b[38;5;241m=\u001b[39m [msubs(i, \u001b[38;5;28mself\u001b[39m\u001b[38;5;241m.\u001b[39m_qdot_u_map) \u001b[38;5;28;01mfor\u001b[39;00m i \u001b[38;5;129;01min\u001b[39;00m f_list]\n",
      "File \u001b[0;32m~/Library/Caches/pypoetry/virtualenvs/explauto-fork-PZ5_a-k_-py3.9/lib/python3.9/site-packages/sympy/physics/mechanics/functions.py:730\u001b[0m, in \u001b[0;36m_f_list_parser\u001b[0;34m(fl, ref_frame)\u001b[0m\n\u001b[1;32m    728\u001b[0m \u001b[38;5;28;01melse\u001b[39;00m:\n\u001b[1;32m    729\u001b[0m     unzip \u001b[38;5;241m=\u001b[39m \u001b[38;5;28;01mlambda\u001b[39;00m l: \u001b[38;5;28mlist\u001b[39m(\u001b[38;5;28mzip\u001b[39m(\u001b[38;5;241m*\u001b[39ml)) \u001b[38;5;28;01mif\u001b[39;00m l[\u001b[38;5;241m0\u001b[39m] \u001b[38;5;28;01melse\u001b[39;00m [(), ()]\n\u001b[0;32m--> 730\u001b[0m     vel_list, f_list \u001b[38;5;241m=\u001b[39m unzip(\u001b[38;5;28;43mlist\u001b[39;49m\u001b[43m(\u001b[49m\u001b[43mflist_iter\u001b[49m\u001b[43m(\u001b[49m\u001b[43m)\u001b[49m\u001b[43m)\u001b[49m)\n\u001b[1;32m    731\u001b[0m \u001b[38;5;28;01mreturn\u001b[39;00m vel_list, f_list\n",
      "File \u001b[0;32m~/Library/Caches/pypoetry/virtualenvs/explauto-fork-PZ5_a-k_-py3.9/lib/python3.9/site-packages/sympy/physics/mechanics/functions.py:717\u001b[0m, in \u001b[0;36m_f_list_parser.<locals>.flist_iter\u001b[0;34m()\u001b[0m\n\u001b[1;32m    715\u001b[0m \u001b[38;5;28;01mdef\u001b[39;00m \u001b[38;5;21mflist_iter\u001b[39m():\n\u001b[1;32m    716\u001b[0m     \u001b[38;5;28;01mfor\u001b[39;00m pair \u001b[38;5;129;01min\u001b[39;00m fl:\n\u001b[0;32m--> 717\u001b[0m         obj, force \u001b[38;5;241m=\u001b[39m pair\n\u001b[1;32m    718\u001b[0m         \u001b[38;5;28;01mif\u001b[39;00m \u001b[38;5;28misinstance\u001b[39m(obj, ReferenceFrame):\n\u001b[1;32m    719\u001b[0m             \u001b[38;5;28;01myield\u001b[39;00m obj\u001b[38;5;241m.\u001b[39mang_vel_in(ref_frame), force\n",
      "\u001b[0;31mTypeError\u001b[0m: cannot unpack non-iterable Particle object"
     ]
    }
   ],
   "source": [
    "from math import pi\n",
    "m = [0.01,0.06,-0.05,0.01,0.,0.,0.,0.,-0.1,0.01]\n",
    "print(environment.update(m))"
   ]
  },
  {
   "cell_type": "markdown",
   "id": "b5a8302c",
   "metadata": {},
   "source": [
    "Then, we add the noise :"
   ]
  },
  {
   "cell_type": "code",
   "execution_count": 9,
   "id": "f9903af6",
   "metadata": {
    "collapsed": false,
    "jupyter": {
     "outputs_hidden": false
    }
   },
   "outputs": [
    {
     "ename": "TypeError",
     "evalue": "cannot unpack non-iterable Particle object",
     "output_type": "error",
     "traceback": [
      "\u001b[0;31m---------------------------------------------------------------------------\u001b[0m",
      "\u001b[0;31mTypeError\u001b[0m                                 Traceback (most recent call last)",
      "Cell \u001b[0;32mIn [9], line 1\u001b[0m\n\u001b[0;32m----> 1\u001b[0m s \u001b[38;5;241m=\u001b[39m \u001b[43menvironment\u001b[49m\u001b[38;5;241;43m.\u001b[39;49m\u001b[43mcompute_sensori_effect\u001b[49m\u001b[43m(\u001b[49m\u001b[43mm\u001b[49m\u001b[43m)\u001b[49m\n\u001b[1;32m      2\u001b[0m \u001b[38;5;28mprint\u001b[39m(s)\n",
      "File \u001b[0;32m~/School/Thesis/explauto_fork/explauto/explauto/environment/npendulum/npendulum.py:45\u001b[0m, in \u001b[0;36mNPendulumEnvironment.compute_sensori_effect\u001b[0;34m(self, m)\u001b[0m\n\u001b[1;32m     42\u001b[0m     traj \u001b[38;5;241m=\u001b[39m \u001b[38;5;28mself\u001b[39m\u001b[38;5;241m.\u001b[39mbf\u001b[38;5;241m.\u001b[39mtrajectory(m)\u001b[38;5;241m.\u001b[39mflatten()\n\u001b[1;32m     43\u001b[0m     func \u001b[38;5;241m=\u001b[39m \u001b[38;5;28;01mlambda\u001b[39;00m t: traj[\u001b[38;5;28mint\u001b[39m(\u001b[38;5;241m1000\u001b[39m\u001b[38;5;241m*\u001b[39m\u001b[38;5;28mself\u001b[39m\u001b[38;5;241m.\u001b[39mdt \u001b[38;5;241m*\u001b[39m t)]\n\u001b[0;32m---> 45\u001b[0m states \u001b[38;5;241m=\u001b[39m \u001b[43msimulation\u001b[49m\u001b[38;5;241;43m.\u001b[39;49m\u001b[43msimulate\u001b[49m\u001b[43m(\u001b[49m\u001b[38;5;28;43mself\u001b[39;49m\u001b[38;5;241;43m.\u001b[39;49m\u001b[43mn\u001b[49m\u001b[43m,\u001b[49m\u001b[43m \u001b[49m\u001b[38;5;28;43mself\u001b[39;49m\u001b[38;5;241;43m.\u001b[39;49m\u001b[43mx0\u001b[49m\u001b[43m,\u001b[49m\u001b[43m \u001b[49m\u001b[38;5;28;43mself\u001b[39;49m\u001b[38;5;241;43m.\u001b[39;49m\u001b[43mdt\u001b[49m\u001b[43m,\u001b[49m\u001b[43m \u001b[49m\u001b[43mfunc\u001b[49m\u001b[43m)\u001b[49m\n\u001b[1;32m     46\u001b[0m last_state_cartesian \u001b[38;5;241m=\u001b[39m simulation\u001b[38;5;241m.\u001b[39mcartesian(\u001b[38;5;28mself\u001b[39m\u001b[38;5;241m.\u001b[39mn, states[\u001b[38;5;241m-\u001b[39m\u001b[38;5;241m1\u001b[39m])\n\u001b[1;32m     48\u001b[0m end_effector_pos \u001b[38;5;241m=\u001b[39m array([last_state_cartesian[\u001b[38;5;28mself\u001b[39m\u001b[38;5;241m.\u001b[39mn], last_state_cartesian[\u001b[38;5;241m2\u001b[39m\u001b[38;5;241m*\u001b[39m\u001b[38;5;28mself\u001b[39m\u001b[38;5;241m.\u001b[39mn]])\n",
      "File \u001b[0;32m~/School/Thesis/explauto_fork/explauto/explauto/environment/npendulum/simulation.py:130\u001b[0m, in \u001b[0;36msimulate\u001b[0;34m(n, x0, dt, func)\u001b[0m\n\u001b[1;32m    127\u001b[0m t \u001b[38;5;241m=\u001b[39m linspace(\u001b[38;5;241m0\u001b[39m, \u001b[38;5;241m1000\u001b[39m \u001b[38;5;241m*\u001b[39m dt, \u001b[38;5;241m1000\u001b[39m)\n\u001b[1;32m    129\u001b[0m kane \u001b[38;5;241m=\u001b[39m KanesMethod(I, q_ind\u001b[38;5;241m=\u001b[39mq, u_ind\u001b[38;5;241m=\u001b[39mu, kd_eqs\u001b[38;5;241m=\u001b[39mkindiffs)\n\u001b[0;32m--> 130\u001b[0m fr, frstar \u001b[38;5;241m=\u001b[39m \u001b[43mkane\u001b[49m\u001b[38;5;241;43m.\u001b[39;49m\u001b[43mkanes_equations\u001b[49m\u001b[43m(\u001b[49m\u001b[43mforces\u001b[49m\u001b[43m,\u001b[49m\u001b[43m \u001b[49m\u001b[43mparticles\u001b[49m\u001b[43m)\u001b[49m\n\u001b[1;32m    131\u001b[0m fr\n\u001b[1;32m    132\u001b[0m frstar\n",
      "File \u001b[0;32m~/Library/Caches/pypoetry/virtualenvs/explauto-fork-PZ5_a-k_-py3.9/lib/python3.9/site-packages/sympy/physics/mechanics/kane.py:574\u001b[0m, in \u001b[0;36mKanesMethod.kanes_equations\u001b[0;34m(self, bodies, loads)\u001b[0m\n\u001b[1;32m    571\u001b[0m \u001b[38;5;28;01mif\u001b[39;00m \u001b[38;5;129;01mnot\u001b[39;00m \u001b[38;5;28mself\u001b[39m\u001b[38;5;241m.\u001b[39m_k_kqdot:\n\u001b[1;32m    572\u001b[0m     \u001b[38;5;28;01mraise\u001b[39;00m \u001b[38;5;167;01mAttributeError\u001b[39;00m(\u001b[38;5;124m'\u001b[39m\u001b[38;5;124mCreate an instance of KanesMethod with \u001b[39m\u001b[38;5;124m'\u001b[39m\n\u001b[1;32m    573\u001b[0m             \u001b[38;5;124m'\u001b[39m\u001b[38;5;124mkinematic differential equations to use this method.\u001b[39m\u001b[38;5;124m'\u001b[39m)\n\u001b[0;32m--> 574\u001b[0m fr \u001b[38;5;241m=\u001b[39m \u001b[38;5;28;43mself\u001b[39;49m\u001b[38;5;241;43m.\u001b[39;49m\u001b[43m_form_fr\u001b[49m\u001b[43m(\u001b[49m\u001b[43mloads\u001b[49m\u001b[43m)\u001b[49m\n\u001b[1;32m    575\u001b[0m frstar \u001b[38;5;241m=\u001b[39m \u001b[38;5;28mself\u001b[39m\u001b[38;5;241m.\u001b[39m_form_frstar(bodies)\n\u001b[1;32m    576\u001b[0m \u001b[38;5;28;01mif\u001b[39;00m \u001b[38;5;28mself\u001b[39m\u001b[38;5;241m.\u001b[39m_uaux:\n",
      "File \u001b[0;32m~/Library/Caches/pypoetry/virtualenvs/explauto-fork-PZ5_a-k_-py3.9/lib/python3.9/site-packages/sympy/physics/mechanics/kane.py:314\u001b[0m, in \u001b[0;36mKanesMethod._form_fr\u001b[0;34m(self, fl)\u001b[0m\n\u001b[1;32m    312\u001b[0m N \u001b[38;5;241m=\u001b[39m \u001b[38;5;28mself\u001b[39m\u001b[38;5;241m.\u001b[39m_inertial\n\u001b[1;32m    313\u001b[0m \u001b[38;5;66;03m# pull out relevant velocities for constructing partial velocities\u001b[39;00m\n\u001b[0;32m--> 314\u001b[0m vel_list, f_list \u001b[38;5;241m=\u001b[39m \u001b[43m_f_list_parser\u001b[49m\u001b[43m(\u001b[49m\u001b[43mfl\u001b[49m\u001b[43m,\u001b[49m\u001b[43m \u001b[49m\u001b[43mN\u001b[49m\u001b[43m)\u001b[49m\n\u001b[1;32m    315\u001b[0m vel_list \u001b[38;5;241m=\u001b[39m [msubs(i, \u001b[38;5;28mself\u001b[39m\u001b[38;5;241m.\u001b[39m_qdot_u_map) \u001b[38;5;28;01mfor\u001b[39;00m i \u001b[38;5;129;01min\u001b[39;00m vel_list]\n\u001b[1;32m    316\u001b[0m f_list \u001b[38;5;241m=\u001b[39m [msubs(i, \u001b[38;5;28mself\u001b[39m\u001b[38;5;241m.\u001b[39m_qdot_u_map) \u001b[38;5;28;01mfor\u001b[39;00m i \u001b[38;5;129;01min\u001b[39;00m f_list]\n",
      "File \u001b[0;32m~/Library/Caches/pypoetry/virtualenvs/explauto-fork-PZ5_a-k_-py3.9/lib/python3.9/site-packages/sympy/physics/mechanics/functions.py:730\u001b[0m, in \u001b[0;36m_f_list_parser\u001b[0;34m(fl, ref_frame)\u001b[0m\n\u001b[1;32m    728\u001b[0m \u001b[38;5;28;01melse\u001b[39;00m:\n\u001b[1;32m    729\u001b[0m     unzip \u001b[38;5;241m=\u001b[39m \u001b[38;5;28;01mlambda\u001b[39;00m l: \u001b[38;5;28mlist\u001b[39m(\u001b[38;5;28mzip\u001b[39m(\u001b[38;5;241m*\u001b[39ml)) \u001b[38;5;28;01mif\u001b[39;00m l[\u001b[38;5;241m0\u001b[39m] \u001b[38;5;28;01melse\u001b[39;00m [(), ()]\n\u001b[0;32m--> 730\u001b[0m     vel_list, f_list \u001b[38;5;241m=\u001b[39m unzip(\u001b[38;5;28;43mlist\u001b[39;49m\u001b[43m(\u001b[49m\u001b[43mflist_iter\u001b[49m\u001b[43m(\u001b[49m\u001b[43m)\u001b[49m\u001b[43m)\u001b[49m)\n\u001b[1;32m    731\u001b[0m \u001b[38;5;28;01mreturn\u001b[39;00m vel_list, f_list\n",
      "File \u001b[0;32m~/Library/Caches/pypoetry/virtualenvs/explauto-fork-PZ5_a-k_-py3.9/lib/python3.9/site-packages/sympy/physics/mechanics/functions.py:717\u001b[0m, in \u001b[0;36m_f_list_parser.<locals>.flist_iter\u001b[0;34m()\u001b[0m\n\u001b[1;32m    715\u001b[0m \u001b[38;5;28;01mdef\u001b[39;00m \u001b[38;5;21mflist_iter\u001b[39m():\n\u001b[1;32m    716\u001b[0m     \u001b[38;5;28;01mfor\u001b[39;00m pair \u001b[38;5;129;01min\u001b[39;00m fl:\n\u001b[0;32m--> 717\u001b[0m         obj, force \u001b[38;5;241m=\u001b[39m pair\n\u001b[1;32m    718\u001b[0m         \u001b[38;5;28;01mif\u001b[39;00m \u001b[38;5;28misinstance\u001b[39m(obj, ReferenceFrame):\n\u001b[1;32m    719\u001b[0m             \u001b[38;5;28;01myield\u001b[39;00m obj\u001b[38;5;241m.\u001b[39mang_vel_in(ref_frame), force\n",
      "\u001b[0;31mTypeError\u001b[0m: cannot unpack non-iterable Particle object"
     ]
    }
   ],
   "source": [
    "s = environment.compute_sensori_effect(m)\n",
    "print(s)"
   ]
  },
  {
   "cell_type": "markdown",
   "id": "4d0bcd5b",
   "metadata": {},
   "source": [
    "The simple arm environment also comes with few methods to visualize the arm shape for a given motor configuration."
   ]
  },
  {
   "cell_type": "markdown",
   "id": "2c88df4a",
   "metadata": {},
   "source": [
    "The first one plot the position of the end effector at the end of the movement."
   ]
  },
  {
   "cell_type": "code",
   "execution_count": 13,
   "id": "96a39ba7",
   "metadata": {
    "collapsed": false,
    "jupyter": {
     "outputs_hidden": false
    }
   },
   "outputs": [
    {
     "ename": "NameError",
     "evalue": "name 's' is not defined",
     "output_type": "error",
     "traceback": [
      "\u001b[0;31m---------------------------------------------------------------------------\u001b[0m",
      "\u001b[0;31mNameError\u001b[0m                                 Traceback (most recent call last)",
      "Cell \u001b[0;32mIn [13], line 2\u001b[0m\n\u001b[1;32m      1\u001b[0m ax \u001b[38;5;241m=\u001b[39m plt\u001b[38;5;241m.\u001b[39maxes()\n\u001b[0;32m----> 2\u001b[0m environment\u001b[38;5;241m.\u001b[39mplot_s(ax, \u001b[43ms\u001b[49m)\n",
      "\u001b[0;31mNameError\u001b[0m: name 's' is not defined"
     ]
    },
    {
     "data": {
      "image/png": "[encoded data removed]",
      "text/plain": [
       "<Figure size 640x480 with 1 Axes>"
      ]
     },
     "metadata": {},
     "output_type": "display_data"
    }
   ],
   "source": [
    "ax = plt.axes()\n",
    "environment.plot_s(ax, s)"
   ]
  },
  {
   "cell_type": "markdown",
   "id": "33571a4e",
   "metadata": {},
   "source": [
    "The second one computes and plots the position of the end effector from $m$. In this example, we generate goals and plot them."
   ]
  },
  {
   "cell_type": "code",
   "execution_count": 14,
   "id": "e845f82f",
   "metadata": {
    "collapsed": false,
    "jupyter": {
     "outputs_hidden": false
    }
   },
   "outputs": [
    {
     "name": "stdout",
     "output_type": "stream",
     "text": [
      "Populating the interactive namespace from numpy and matplotlib\n"
     ]
    },
    {
     "data": {
      "image/png": "[encoded data removed]",
      "text/plain": [
       "<matplotlib.figure.Figure at 0x7fb4f715d050>"
      ]
     },
     "metadata": {},
     "output_type": "display_data"
    }
   ],
   "source": [
    "motor_configurations = environment.random_motors(n=5)\n",
    "ax = plt.axes()\n",
    "for m in motor_configurations:\n",
    "    environment.plot_and_compute(ax, m)"
   ]
  },
  {
   "cell_type": "markdown",
   "id": "2357cd01",
   "metadata": {},
   "source": [
    "The third one plots the whole npendulum. The squared point is the end effector."
   ]
  },
  {
   "cell_type": "code",
   "execution_count": 25,
   "id": "8bb23923",
   "metadata": {
    "collapsed": false,
    "jupyter": {
     "outputs_hidden": false
    }
   },
   "outputs": [
    {
     "name": "stdout",
     "output_type": "stream",
     "text": [
      "Populating the interactive namespace from numpy and matplotlib\n"
     ]
    },
    {
     "data": {
      "image/png": "[encoded data removed]",
      "text/plain": [
       "<matplotlib.figure.Figure at 0x7fb4f46da110>"
      ]
     },
     "metadata": {},
     "output_type": "display_data"
    }
   ],
   "source": [
    "motor_configurations = environment.random_motors(n=1)\n",
    "ax = plt.axes()\n",
    "for m in motor_configurations:\n",
    "    environment.plot_npendulum(ax, m)"
   ]
  },
  {
   "cell_type": "markdown",
   "id": "c6699c1e",
   "metadata": {},
   "source": [
    "The last one generates .png files that contains the whole pendulum image, in order to create a video. The computation may take few minutes."
   ]
  },
  {
   "cell_type": "code",
   "execution_count": 16,
   "id": "b0237e35",
   "metadata": {
    "collapsed": false,
    "jupyter": {
     "outputs_hidden": false
    }
   },
   "outputs": [
    {
     "name": "stdout",
     "output_type": "stream",
     "text": [
      "Populating the interactive namespace from numpy and matplotlib\n"
     ]
    },
    {
     "data": {
      "text/plain": [
       "<matplotlib.figure.Figure at 0x7fb4f5fc7b50>"
      ]
     },
     "metadata": {},
     "output_type": "display_data"
    }
   ],
   "source": [
    "m = [0.01,0.06,-0.05,0.01,0.,0.,0.,0.,-0.1,0.01]\n",
    "environment.animate_pendulum(m)"
   ]
  }
 ],
 "metadata": {
  "kernelspec": {
   "display_name": "Python 3 (ipykernel)",
   "language": "python",
   "name": "python3"
  },
  "language_info": {
   "codemirror_mode": {
    "name": "ipython",
    "version": 3
   },
   "file_extension": ".py",
   "mimetype": "text/x-python",
   "name": "python",
   "nbconvert_exporter": "python",
   "pygments_lexer": "ipython3",
   "version": "3.9.7"
  }
 },
 "nbformat": 4,
 "nbformat_minor": 5
}
